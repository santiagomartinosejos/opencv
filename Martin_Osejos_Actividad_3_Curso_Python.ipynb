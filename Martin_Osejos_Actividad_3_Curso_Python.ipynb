{
  "nbformat": 4,
  "nbformat_minor": 0,
  "metadata": {
    "colab": {
      "name": "Yamberla_Erick_Actividad_3_Curso_Python.ipynb",
      "provenance": [],
      "include_colab_link": true
    },
    "kernelspec": {
      "name": "python3",
      "display_name": "Python 3"
    },
    "language_info": {
      "name": "python"
    }
  },
  "cells": [
    {
      "cell_type": "markdown",
      "metadata": {
        "id": "view-in-github",
        "colab_type": "text"
      },
      "source": [
        "<a href=\"https://colab.research.google.com/github/santiagomartinosejos/opencv/blob/master/Martin_Osejos_Actividad_3_Curso_Python.ipynb\" target=\"_parent\"><img src=\"https://colab.research.google.com/assets/colab-badge.svg\" alt=\"Open In Colab\"/></a>"
      ]
    },
    {
      "cell_type": "markdown",
      "source": [
        "# Actividad III - Estructuras de control de flujo\n",
        "**Nombre: Martín Osejos**"
      ],
      "metadata": {
        "id": "6gSz8IS3RLc-"
      }
    },
    {
      "cell_type": "markdown",
      "source": [
        "# Parte 1 - Manejo de concidionales"
      ],
      "metadata": {
        "id": "ZVxFaszHHkOH"
      }
    },
    {
      "cell_type": "markdown",
      "source": [
        "1. Escribir un programa que pregunte al usuario su edad y muestre por pantalla si es mayor de edad o no"
      ],
      "metadata": {
        "id": "1XkaZ_gXz8Sy"
      }
    },
    {
      "cell_type": "code",
      "execution_count": null,
      "metadata": {
        "colab": {
          "base_uri": "https://localhost:8080/"
        },
        "id": "2ntX98ffz4Rg",
        "outputId": "d0b3fda9-1e50-40cc-e10b-56ad0d159655"
      },
      "outputs": [
        {
          "output_type": "stream",
          "name": "stdout",
          "text": [
            "Ingrese su edad: 25\n",
            "Mayor de edad\n"
          ]
        }
      ],
      "source": [
        "edad = int(input(\"Ingrese su edad: \"))\n",
        "\n",
        "if edad >= 18:\n",
        "    print(\"Mayor de edad\")\n",
        "else:\n",
        "    print(\"Menor de edad\")"
      ]
    },
    {
      "cell_type": "markdown",
      "source": [
        "2.\tEscribir un programa de login que solicite un usuario y una contraseña. Si la persona ingresa mal el usuario y la contraseña mostrar un mensaje que diga \"datos erroneos\". En caso de que solo ingrese de forma erronea un parámetro (usuario o contraseña) se muestre un mensaje que diga usuario erroneo o contraseña incorrecta respectivamente. Finalmente, el programa debe mostrar un mensaje de \"Bienvenido\" si tanto el usuario como la contraseña son correctos."
      ],
      "metadata": {
        "id": "xMO1wDS76p6i"
      }
    },
    {
      "cell_type": "code",
      "source": [
        "usuario = \"admin\"\n",
        "contrasenia = \"12345\"\n",
        "\n",
        "user = input(\"Ingrese el usuario: \")\n",
        "contra = input(\"Ingrese la contraseña: \")\n",
        "\n",
        "if user == usuario and contra == contrasenia:\n",
        "    print(\"Bienvenido\")\n",
        "elif user == usuario and contra != contrasenia:\n",
        "    print(\"Contraseña incorrecta\")\n",
        "elif user != usuario and contra == contrasenia:\n",
        "    print(\"Usuario incorrecto\")\n",
        "else:\n",
        "    print(\"Datos erróneos\")"
      ],
      "metadata": {
        "colab": {
          "base_uri": "https://localhost:8080/"
        },
        "id": "JmUiuhI36so4",
        "outputId": "1e4cfa30-ef73-4df7-e2f6-81705fd39c15"
      },
      "execution_count": null,
      "outputs": [
        {
          "output_type": "stream",
          "name": "stdout",
          "text": [
            "Ingrese el usuario: admin\n",
            "Ingrese la contraseña: 12345\n",
            "Bienvenido\n"
          ]
        }
      ]
    },
    {
      "cell_type": "markdown",
      "source": [
        "3.\tEscribir un programa que pida al usuario dos números y muestre por pantalla su división. Si el divisor es cero el programa debe mostrar un error."
      ],
      "metadata": {
        "id": "MjWtkajS--7F"
      }
    },
    {
      "cell_type": "code",
      "source": [
        "a = float(input(\"Ingrese numerador: \"))\n",
        "b = float(input(\"Ingrese denominador: \"))\n",
        "\n",
        "if b != 0:\n",
        "    print(a/b)\n",
        "else:\n",
        "    print(\"Error! División por cero\")"
      ],
      "metadata": {
        "colab": {
          "base_uri": "https://localhost:8080/"
        },
        "id": "1zdxqdPs-_33",
        "outputId": "44d20214-1238-4d4e-d358-9d7f2f632187"
      },
      "execution_count": null,
      "outputs": [
        {
          "output_type": "stream",
          "name": "stdout",
          "text": [
            "Ingrese numerador: 2\n",
            "Ingrese denominador: 0\n",
            "Error! División por cero\n"
          ]
        }
      ]
    },
    {
      "cell_type": "markdown",
      "source": [
        "4.\tEscribir un programa para una empresa que tiene salas de juegos para todas las edades y quiere calcular de forma automática el precio que debe cobrar a sus clientes por entrar. El programa debe preguntar al usuario la edad del cliente y mostrar el precio de la entrada. Si el cliente es menor de 4 años puede entrar gratis, si tiene entre 4 y 18 años debe pagar 5€ y si es mayor de 18 años, 10€"
      ],
      "metadata": {
        "id": "w2jaVhXu2m6V"
      }
    },
    {
      "cell_type": "code",
      "source": [
        "edad = int(input(\"Ingrese edad del cliente: \"))\n",
        "\n",
        "if edad < 4:\n",
        "    print(\"La entrada es gratuita\")\n",
        "elif edad >= 4 and edad <= 18:\n",
        "    print(\"La entrada es de 5 euros \")\n",
        "else:\n",
        "    print(\"La entrada es de 10 euros\")"
      ],
      "metadata": {
        "colab": {
          "base_uri": "https://localhost:8080/"
        },
        "id": "Lyxjb99k2oRd",
        "outputId": "d20e674e-a8cf-4218-e3ec-a7970202de95"
      },
      "execution_count": null,
      "outputs": [
        {
          "output_type": "stream",
          "name": "stdout",
          "text": [
            "Ingrese edad del cliente: 18\n",
            "La entrada es de 5 euros\n"
          ]
        }
      ]
    },
    {
      "cell_type": "markdown",
      "source": [
        "5. Diseñe e implemente un programa que permita determinar si un número n es múltiplo de un número m. Ambos números serán ingresados por teclado."
      ],
      "metadata": {
        "id": "e55OG1vZgexb"
      }
    },
    {
      "cell_type": "code",
      "source": [
        "n = int(input(\"Ingrese primer número: \"))\n",
        "m = int(input(\"Ingrese segundo número: \"))\n",
        "\n",
        "if n>=m:\n",
        "    if n % m == 0:\n",
        "        print(n,\" es múltiplo de \",m)\n",
        "    else:\n",
        "        print(n,\" no es múltiplo de \",m)\n",
        "else:\n",
        "    if m % n == 0:\n",
        "        print(m,\" es múltiplo de \",n)\n",
        "    else:\n",
        "        print(m,\" no es múltiplo de \",n)"
      ],
      "metadata": {
        "colab": {
          "base_uri": "https://localhost:8080/"
        },
        "id": "c-nB8BDNgyt-",
        "outputId": "bb8ec0e1-6e97-4d44-ba34-73f104657f47"
      },
      "execution_count": null,
      "outputs": [
        {
          "output_type": "stream",
          "name": "stdout",
          "text": [
            "Ingrese primer número: 6\n",
            "Ingrese segundo número: 54\n",
            "54  es múltiplo de  6\n"
          ]
        }
      ]
    },
    {
      "cell_type": "markdown",
      "source": [
        "6. Diseñe e implemente un programa con condicionales que permita determinar la edad de una persona de acuerdo a su tipo. Los tipos y el rango de edad es:\n",
        "Bebe: 0 a 2 años;\n",
        "Niño: 3 a 10 años;\n",
        "Infante: 11 a 14 años;\n",
        "Joven: 15 a 25 años;\n",
        "Adulto: 26 a 59 años;\n",
        "Anciano: 60 a 100 años...\n",
        "Por ejemplo, si el usuario ingresa niño debe devolver ”Su edad está entre 3 y 10 años”."
      ],
      "metadata": {
        "id": "269mpVHKnDvv"
      }
    },
    {
      "cell_type": "code",
      "source": [
        "tipo = input(\"Ingrese su tipo de persona (bebe, niño, infante, joven, adulto, anciano): \")\n",
        "\n",
        "if tipo == \"bebe\":\n",
        "    print(\"Su edad está entre 0 y 2 años\")\n",
        "elif tipo == \"niño\":\n",
        "    print(\"Su edad está entre 3 y 10 años\")\n",
        "elif tipo == \"infante\":\n",
        "    print(\"Su edad está entre 11 y 14 años\")\n",
        "elif tipo == \"joven\":\n",
        "    print(\"Su edad está entre 15 y 25 años\")\n",
        "elif tipo == \"adulto\":\n",
        "    print(\"Su edad está entre 26 y 59 años\")\n",
        "elif tipo == \"anciano\":\n",
        "    print(\"Su edad está entre 60 y 100 años\")\n",
        "else:\n",
        "    print(\"Error! Tipo de persona incorrecto\")"
      ],
      "metadata": {
        "id": "5AitikRtpM_O",
        "colab": {
          "base_uri": "https://localhost:8080/"
        },
        "outputId": "dcbab41a-1ec3-4f45-998f-16f11145b7dc"
      },
      "execution_count": null,
      "outputs": [
        {
          "output_type": "stream",
          "name": "stdout",
          "text": [
            "Ingrese su tipo de persona (bebe, niño, infante, joven, adulto, anciano): anciano\n",
            "Su edad está entre 60 y 100 años\n"
          ]
        }
      ]
    },
    {
      "cell_type": "markdown",
      "source": [
        "7. Modifique el punto anterior de tal forma que la persona ahora ingrese una edad y devuelva el tipo. Por ejemplo, si ingresa 27 devuelve ¨Usted es un adulto”."
      ],
      "metadata": {
        "id": "A4deZrMX4naF"
      }
    },
    {
      "cell_type": "code",
      "source": [
        "edad = int(input(\"Ingrese su edad: \"))\n",
        "\n",
        "if edad >= 0 and edad <=2:\n",
        "    print(\"Usted es un bebe\")\n",
        "elif edad >= 3 and edad <= 10:\n",
        "    print(\"Usted es un niño\")\n",
        "elif edad >= 11 and edad <= 14:\n",
        "    print(\"Usted es un infante\")\n",
        "elif edad >= 15 and edad <= 25:\n",
        "    print(\"Usted es un joven\")\n",
        "elif edad >= 26 and edad <= 59:\n",
        "    print(\"Usted es un adulto\")\n",
        "elif edad >= 60 and edad <= 100:\n",
        "    print(\"Usted es un anciano\")\n",
        "else:\n",
        "    print(\"Error! Edad ingresada no es válida\")"
      ],
      "metadata": {
        "colab": {
          "base_uri": "https://localhost:8080/"
        },
        "id": "GXC2DHae40qY",
        "outputId": "c22a6fd6-378f-42f4-e496-9a8234569bc2"
      },
      "execution_count": null,
      "outputs": [
        {
          "output_type": "stream",
          "name": "stdout",
          "text": [
            "Ingrese su edad: 99\n",
            "Usted es un anciano\n"
          ]
        }
      ]
    },
    {
      "cell_type": "markdown",
      "source": [
        "# Parte 2 - Manejo de ciclos"
      ],
      "metadata": {
        "id": "OWamPvr3A1ir"
      }
    },
    {
      "cell_type": "markdown",
      "source": [
        "1. Diseñe un programa que imprima desde 0 hasta un número ingresado por un usuario."
      ],
      "metadata": {
        "id": "JWMR1gan9E_y"
      }
    },
    {
      "cell_type": "code",
      "source": [
        "numero = int(input(\"Ingrese un número: \"))\n",
        "aux = 0\n",
        "\n",
        "while aux <= numero:\n",
        "    print(aux)\n",
        "    aux += 1"
      ],
      "metadata": {
        "colab": {
          "base_uri": "https://localhost:8080/"
        },
        "id": "5wd0L5vU9Pcl",
        "outputId": "0cc2460c-83e1-4c8d-c49d-53aedbb36c33"
      },
      "execution_count": null,
      "outputs": [
        {
          "output_type": "stream",
          "name": "stdout",
          "text": [
            "Ingrese un número: 7\n",
            "0\n",
            "1\n",
            "2\n",
            "3\n",
            "4\n",
            "5\n",
            "6\n",
            "7\n"
          ]
        }
      ]
    },
    {
      "cell_type": "markdown",
      "source": [
        "2. Modifique el programa anterior para que imprima desde un número ingresado hasta otro número ingresado.\n"
      ],
      "metadata": {
        "id": "Z39u2fwX-fO0"
      }
    },
    {
      "cell_type": "code",
      "source": [
        "numero1 = int(input(\"Ingrese el primer número: \"))\n",
        "numero2 = int(input(\"Ingrese el segundo número: \"))\n",
        "\n",
        "if numero1 <= numero2:\n",
        "    while numero1 <= numero2:\n",
        "        print(numero1)\n",
        "        numero1 += 1\n",
        "else:\n",
        "    while numero2 <= numero1:\n",
        "        print(numero2)\n",
        "        numero2 += 1"
      ],
      "metadata": {
        "colab": {
          "base_uri": "https://localhost:8080/"
        },
        "id": "cwonwY-F-prJ",
        "outputId": "36643d69-0654-4564-acae-fe2588706b14"
      },
      "execution_count": null,
      "outputs": [
        {
          "output_type": "stream",
          "name": "stdout",
          "text": [
            "Ingrese el primer número: 14\n",
            "Ingrese el segundo número: 20\n",
            "14\n",
            "15\n",
            "16\n",
            "17\n",
            "18\n",
            "19\n",
            "20\n"
          ]
        }
      ]
    },
    {
      "cell_type": "markdown",
      "source": [
        "3.\tEscribir un programa que pida al usuario una palabra y la muestre por pantalla 10 veces."
      ],
      "metadata": {
        "id": "ZWs1_25TA4GG"
      }
    },
    {
      "cell_type": "code",
      "source": [
        "palabra = input(\"Ingrese una palabra: \")\n",
        "aux = 1\n",
        "\n",
        "while aux <= 10:\n",
        "    print(palabra)\n",
        "    aux += 1"
      ],
      "metadata": {
        "colab": {
          "base_uri": "https://localhost:8080/"
        },
        "id": "VGenhPUAA3qe",
        "outputId": "405f3253-4387-4e8d-fc83-199c3548f1ae"
      },
      "execution_count": null,
      "outputs": [
        {
          "output_type": "stream",
          "name": "stdout",
          "text": [
            "Ingrese una palabra: UTN\n",
            "UTN\n",
            "UTN\n",
            "UTN\n",
            "UTN\n",
            "UTN\n",
            "UTN\n",
            "UTN\n",
            "UTN\n",
            "UTN\n",
            "UTN\n"
          ]
        }
      ]
    },
    {
      "cell_type": "markdown",
      "source": [
        "4.\tEscribir un programa que pregunte al usuario su edad y muestre por pantalla todos los años que ha cumplido (desde 1 hasta su edad)."
      ],
      "metadata": {
        "id": "-7GkNWyjB8ut"
      }
    },
    {
      "cell_type": "code",
      "source": [
        "edad = int(input(\"Ingrese su edad: \"))\n",
        "aux = 1\n",
        "\n",
        "while aux <= edad:\n",
        "    print(aux)\n",
        "    aux += 1"
      ],
      "metadata": {
        "colab": {
          "base_uri": "https://localhost:8080/"
        },
        "id": "na56r0DyB_58",
        "outputId": "158f5fe9-9b3c-4ddc-9483-17bc141d4ce1"
      },
      "execution_count": null,
      "outputs": [
        {
          "output_type": "stream",
          "name": "stdout",
          "text": [
            "Ingrese su edad: 15\n",
            "1\n",
            "2\n",
            "3\n",
            "4\n",
            "5\n",
            "6\n",
            "7\n",
            "8\n",
            "9\n",
            "10\n",
            "11\n",
            "12\n",
            "13\n",
            "14\n",
            "15\n"
          ]
        }
      ]
    },
    {
      "cell_type": "markdown",
      "source": [
        "5.\tEscribir un programa que pida al usuario un número entero positivo y muestre por pantalla todos los números impares desde 1 hasta ese número"
      ],
      "metadata": {
        "id": "dz4DHr7EEwhO"
      }
    },
    {
      "cell_type": "code",
      "source": [
        "numero = int(input(\"Ingrese un número positivo: \"))\n",
        "aux = 1\n",
        "\n",
        "if numero > 0:\n",
        "    while aux <= numero:\n",
        "        var = aux % 2\n",
        "        if var != 0:\n",
        "            print(aux)\n",
        "        aux += 1\n",
        "else:\n",
        "    print(\"Ingresó un número no positivo\")"
      ],
      "metadata": {
        "colab": {
          "base_uri": "https://localhost:8080/"
        },
        "id": "pet80ekEFCvU",
        "outputId": "c07a8601-47e5-4356-f8ea-5b7844a0e10e"
      },
      "execution_count": null,
      "outputs": [
        {
          "output_type": "stream",
          "name": "stdout",
          "text": [
            "Ingrese un número positivo: 19\n",
            "1\n",
            "3\n",
            "5\n",
            "7\n",
            "9\n",
            "11\n",
            "13\n",
            "15\n",
            "17\n",
            "19\n"
          ]
        }
      ]
    },
    {
      "cell_type": "markdown",
      "source": [
        "6.\tEscribir un programa que pida al usuario un número entero positivo y muestre por pantalla la cuenta atrás desde ese número hasta cero."
      ],
      "metadata": {
        "id": "rBOuWXabDkTM"
      }
    },
    {
      "cell_type": "code",
      "source": [
        "numero = int(input(\"Ingrese un número entero positivo: \"))\n",
        "\n",
        "if numero > 0:\n",
        "    while numero >= 0:\n",
        "        print(numero)\n",
        "        numero -= 1\n",
        "else:\n",
        "    print(\"Ingresó un número no positivo\")"
      ],
      "metadata": {
        "colab": {
          "base_uri": "https://localhost:8080/"
        },
        "id": "gr4P1UXjDlF7",
        "outputId": "14f0dc6d-9259-41b5-e934-68de7cbc0d5b"
      },
      "execution_count": null,
      "outputs": [
        {
          "output_type": "stream",
          "name": "stdout",
          "text": [
            "Ingrese un número entero positivo: 11\n",
            "11\n",
            "10\n",
            "9\n",
            "8\n",
            "7\n",
            "6\n",
            "5\n",
            "4\n",
            "3\n",
            "2\n",
            "1\n",
            "0\n"
          ]
        }
      ]
    },
    {
      "cell_type": "markdown",
      "source": [
        "7. Diseñe un programa que no se detenga mientras el usuario ingrese un número par. El programa se detiene cuando el usuario ingresa un número impar o el 0."
      ],
      "metadata": {
        "id": "EV39xRorCyDU"
      }
    },
    {
      "cell_type": "code",
      "source": [
        "numero = 2\n",
        "\n",
        "while numero % 2 == 0 and numero != 0:\n",
        "    numero = int(input(\"Para detener el programa ingrese un número impar o el número cero: \"))\n",
        "print(\"El programa se ha detenido!\")"
      ],
      "metadata": {
        "colab": {
          "base_uri": "https://localhost:8080/"
        },
        "id": "B9-XL58SDoZf",
        "outputId": "299f2642-5dc1-4116-e43b-1492acd9acf4"
      },
      "execution_count": null,
      "outputs": [
        {
          "output_type": "stream",
          "name": "stdout",
          "text": [
            "Para detener el programa ingrese un número impar o el número cero: 4\n",
            "Para detener el programa ingrese un número impar o el número cero: 12\n",
            "Para detener el programa ingrese un número impar o el número cero: 24\n",
            "Para detener el programa ingrese un número impar o el número cero: 0\n",
            "El programa se ha detenido!\n"
          ]
        }
      ]
    },
    {
      "cell_type": "markdown",
      "source": [
        "8. Crear un programa que cuente cuántos números pares y cuántos números impares hay desde 1 hasta el número ingresado por un usuario."
      ],
      "metadata": {
        "id": "afX10uqLJhq3"
      }
    },
    {
      "cell_type": "code",
      "source": [
        "numero = int(input(\"Ingrese un número positivo: \"))\n",
        "auxPar = 0\n",
        "auxImpar = 0\n",
        "\n",
        "if numero > 0:\n",
        "    while numero > 0:\n",
        "        if numero % 2 == 0:\n",
        "            auxPar += 1\n",
        "        else:\n",
        "            auxImpar += 1\n",
        "        numero -= 1\n",
        "    print(\"El total de número pares es: \",auxPar)\n",
        "    print(\"El total de número impares es: \",auxImpar)\n",
        "else:\n",
        "    print(\"Ingresó un número no positivo\")"
      ],
      "metadata": {
        "colab": {
          "base_uri": "https://localhost:8080/"
        },
        "id": "rMk4YZcDJvAO",
        "outputId": "c823404b-4a38-4770-e985-3e9d9d0e3d72"
      },
      "execution_count": null,
      "outputs": [
        {
          "output_type": "stream",
          "name": "stdout",
          "text": [
            "Ingrese un número positivo: 11\n",
            "El total de número pares es:  5\n",
            "El total de número impares es:  6\n"
          ]
        }
      ]
    }
  ]
}